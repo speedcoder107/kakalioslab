{
 "cells": [
  {
   "cell_type": "code",
   "execution_count": 95,
   "metadata": {},
   "outputs": [],
   "source": [
    "import relaxation as rx\n",
    "import pandas as pd"
   ]
  },
  {
   "cell_type": "code",
   "execution_count": 96,
   "metadata": {},
   "outputs": [],
   "source": [
    "df = pd.read_csv(\"/workspaces/kakalioslab/relaxation time/relaxation_time_csv/relaxation_time_temp_407.5.csv\")"
   ]
  },
  {
   "cell_type": "code",
   "execution_count": 97,
   "metadata": {},
   "outputs": [],
   "source": [
    "rx.rewrite_column_names(file=\"/workspaces/kakalioslab/relaxation time/relaxation_time_csv/relaxation_time_temp_407.5.csv\")"
   ]
  },
  {
   "cell_type": "code",
   "execution_count": 98,
   "metadata": {},
   "outputs": [],
   "source": [
    "rx.shortened_csv_file(input_file_paths=\"/workspaces/kakalioslab/relaxation time/relaxation_time_csv/relaxation_time_temp_407.5.csv\", num_points=1000, output_file_path=\"/workspaces/kakalioslab/relaxation time/relaxation_time_modified/relaxation_time_temp_407.5.csv\")"
   ]
  },
  {
   "cell_type": "code",
   "execution_count": 99,
   "metadata": {},
   "outputs": [],
   "source": [
    "rx.add_conductivity(file_name=\"/workspaces/kakalioslab/relaxation time/relaxation_time_modified/relaxation_time_temp_407.5.csv\")"
   ]
  },
  {
   "cell_type": "code",
   "execution_count": 100,
   "metadata": {},
   "outputs": [],
   "source": [
    "rx.add_delta('/workspaces/kakalioslab/relaxation time/relaxation_time_modified/relaxation_time_temp_407.5.csv', 407.5)"
   ]
  },
  {
   "cell_type": "code",
   "execution_count": null,
   "metadata": {},
   "outputs": [],
   "source": []
  }
 ],
 "metadata": {
  "kernelspec": {
   "display_name": "Python 3",
   "language": "python",
   "name": "python3"
  },
  "language_info": {
   "codemirror_mode": {
    "name": "ipython",
    "version": 3
   },
   "file_extension": ".py",
   "mimetype": "text/x-python",
   "name": "python",
   "nbconvert_exporter": "python",
   "pygments_lexer": "ipython3",
   "version": "3.10.13"
  }
 },
 "nbformat": 4,
 "nbformat_minor": 2
}
